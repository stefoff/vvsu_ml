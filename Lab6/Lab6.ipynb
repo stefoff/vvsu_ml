{
 "cells": [
  {
   "attachments": {},
   "cell_type": "markdown",
   "metadata": {},
   "source": [
    "https://www.kaggle.com/datasets/erdemtaha/cancer-data?resource=download"
   ]
  },
  {
   "attachments": {},
   "cell_type": "markdown",
   "metadata": {},
   "source": [
    "#### 1. Загружаем датасет"
   ]
  },
  {
   "cell_type": "code",
   "execution_count": 19,
   "metadata": {},
   "outputs": [],
   "source": [
    "import pandas as pd\n",
    "import numpy as np\n",
    "\n",
    "df = pd.read_csv('Cancer_Data.csv')\n",
    "df = df.iloc[:, 1:]\n",
    "df = df.replace({'diagnosis': {'M': 0, 'B': 1}})"
   ]
  },
  {
   "cell_type": "code",
   "execution_count": 20,
   "metadata": {},
   "outputs": [
    {
     "name": "stdout",
     "output_type": "stream",
     "text": [
      "<class 'pandas.core.frame.DataFrame'>\n",
      "RangeIndex: 569 entries, 0 to 568\n",
      "Data columns (total 31 columns):\n",
      " #   Column                   Non-Null Count  Dtype  \n",
      "---  ------                   --------------  -----  \n",
      " 0   diagnosis                569 non-null    int64  \n",
      " 1   radius_mean              569 non-null    float64\n",
      " 2   texture_mean             569 non-null    float64\n",
      " 3   perimeter_mean           569 non-null    float64\n",
      " 4   area_mean                569 non-null    float64\n",
      " 5   smoothness_mean          569 non-null    float64\n",
      " 6   compactness_mean         569 non-null    float64\n",
      " 7   concavity_mean           569 non-null    float64\n",
      " 8   concave points_mean      569 non-null    float64\n",
      " 9   symmetry_mean            569 non-null    float64\n",
      " 10  fractal_dimension_mean   569 non-null    float64\n",
      " 11  radius_se                569 non-null    float64\n",
      " 12  texture_se               569 non-null    float64\n",
      " 13  perimeter_se             569 non-null    float64\n",
      " 14  area_se                  569 non-null    float64\n",
      " 15  smoothness_se            569 non-null    float64\n",
      " 16  compactness_se           569 non-null    float64\n",
      " 17  concavity_se             569 non-null    float64\n",
      " 18  concave points_se        569 non-null    float64\n",
      " 19  symmetry_se              569 non-null    float64\n",
      " 20  fractal_dimension_se     569 non-null    float64\n",
      " 21  radius_worst             569 non-null    float64\n",
      " 22  texture_worst            569 non-null    float64\n",
      " 23  perimeter_worst          569 non-null    float64\n",
      " 24  area_worst               569 non-null    float64\n",
      " 25  smoothness_worst         569 non-null    float64\n",
      " 26  compactness_worst        569 non-null    float64\n",
      " 27  concavity_worst          569 non-null    float64\n",
      " 28  concave points_worst     569 non-null    float64\n",
      " 29  symmetry_worst           569 non-null    float64\n",
      " 30  fractal_dimension_worst  569 non-null    float64\n",
      "dtypes: float64(30), int64(1)\n",
      "memory usage: 137.9 KB\n"
     ]
    }
   ],
   "source": [
    "df.info()"
   ]
  },
  {
   "cell_type": "code",
   "execution_count": 21,
   "metadata": {},
   "outputs": [
    {
     "data": {
      "text/plain": [
       "0"
      ]
     },
     "execution_count": 21,
     "metadata": {},
     "output_type": "execute_result"
    }
   ],
   "source": [
    "df.isna().sum().sum()"
   ]
  },
  {
   "cell_type": "code",
   "execution_count": 22,
   "metadata": {},
   "outputs": [
    {
     "data": {
      "text/html": [
       "<div>\n",
       "<style scoped>\n",
       "    .dataframe tbody tr th:only-of-type {\n",
       "        vertical-align: middle;\n",
       "    }\n",
       "\n",
       "    .dataframe tbody tr th {\n",
       "        vertical-align: top;\n",
       "    }\n",
       "\n",
       "    .dataframe thead th {\n",
       "        text-align: right;\n",
       "    }\n",
       "</style>\n",
       "<table border=\"1\" class=\"dataframe\">\n",
       "  <thead>\n",
       "    <tr style=\"text-align: right;\">\n",
       "      <th></th>\n",
       "      <th>diagnosis</th>\n",
       "      <th>radius_mean</th>\n",
       "      <th>texture_mean</th>\n",
       "      <th>perimeter_mean</th>\n",
       "      <th>area_mean</th>\n",
       "      <th>smoothness_mean</th>\n",
       "      <th>compactness_mean</th>\n",
       "      <th>concavity_mean</th>\n",
       "      <th>concave points_mean</th>\n",
       "      <th>symmetry_mean</th>\n",
       "      <th>...</th>\n",
       "      <th>radius_worst</th>\n",
       "      <th>texture_worst</th>\n",
       "      <th>perimeter_worst</th>\n",
       "      <th>area_worst</th>\n",
       "      <th>smoothness_worst</th>\n",
       "      <th>compactness_worst</th>\n",
       "      <th>concavity_worst</th>\n",
       "      <th>concave points_worst</th>\n",
       "      <th>symmetry_worst</th>\n",
       "      <th>fractal_dimension_worst</th>\n",
       "    </tr>\n",
       "  </thead>\n",
       "  <tbody>\n",
       "    <tr>\n",
       "      <th>0</th>\n",
       "      <td>0.0</td>\n",
       "      <td>0.521037</td>\n",
       "      <td>0.022658</td>\n",
       "      <td>0.545989</td>\n",
       "      <td>0.363733</td>\n",
       "      <td>0.593753</td>\n",
       "      <td>0.792037</td>\n",
       "      <td>0.703140</td>\n",
       "      <td>0.731113</td>\n",
       "      <td>0.686364</td>\n",
       "      <td>...</td>\n",
       "      <td>0.620776</td>\n",
       "      <td>0.141525</td>\n",
       "      <td>0.668310</td>\n",
       "      <td>0.450698</td>\n",
       "      <td>0.601136</td>\n",
       "      <td>0.619292</td>\n",
       "      <td>0.568610</td>\n",
       "      <td>0.912027</td>\n",
       "      <td>0.598462</td>\n",
       "      <td>0.418864</td>\n",
       "    </tr>\n",
       "    <tr>\n",
       "      <th>1</th>\n",
       "      <td>0.0</td>\n",
       "      <td>0.643144</td>\n",
       "      <td>0.272574</td>\n",
       "      <td>0.615783</td>\n",
       "      <td>0.501591</td>\n",
       "      <td>0.289880</td>\n",
       "      <td>0.181768</td>\n",
       "      <td>0.203608</td>\n",
       "      <td>0.348757</td>\n",
       "      <td>0.379798</td>\n",
       "      <td>...</td>\n",
       "      <td>0.606901</td>\n",
       "      <td>0.303571</td>\n",
       "      <td>0.539818</td>\n",
       "      <td>0.435214</td>\n",
       "      <td>0.347553</td>\n",
       "      <td>0.154563</td>\n",
       "      <td>0.192971</td>\n",
       "      <td>0.639175</td>\n",
       "      <td>0.233590</td>\n",
       "      <td>0.222878</td>\n",
       "    </tr>\n",
       "    <tr>\n",
       "      <th>2</th>\n",
       "      <td>0.0</td>\n",
       "      <td>0.601496</td>\n",
       "      <td>0.390260</td>\n",
       "      <td>0.595743</td>\n",
       "      <td>0.449417</td>\n",
       "      <td>0.514309</td>\n",
       "      <td>0.431017</td>\n",
       "      <td>0.462512</td>\n",
       "      <td>0.635686</td>\n",
       "      <td>0.509596</td>\n",
       "      <td>...</td>\n",
       "      <td>0.556386</td>\n",
       "      <td>0.360075</td>\n",
       "      <td>0.508442</td>\n",
       "      <td>0.374508</td>\n",
       "      <td>0.483590</td>\n",
       "      <td>0.385375</td>\n",
       "      <td>0.359744</td>\n",
       "      <td>0.835052</td>\n",
       "      <td>0.403706</td>\n",
       "      <td>0.213433</td>\n",
       "    </tr>\n",
       "    <tr>\n",
       "      <th>3</th>\n",
       "      <td>0.0</td>\n",
       "      <td>0.210090</td>\n",
       "      <td>0.360839</td>\n",
       "      <td>0.233501</td>\n",
       "      <td>0.102906</td>\n",
       "      <td>0.811321</td>\n",
       "      <td>0.811361</td>\n",
       "      <td>0.565604</td>\n",
       "      <td>0.522863</td>\n",
       "      <td>0.776263</td>\n",
       "      <td>...</td>\n",
       "      <td>0.248310</td>\n",
       "      <td>0.385928</td>\n",
       "      <td>0.241347</td>\n",
       "      <td>0.094008</td>\n",
       "      <td>0.915472</td>\n",
       "      <td>0.814012</td>\n",
       "      <td>0.548642</td>\n",
       "      <td>0.884880</td>\n",
       "      <td>1.000000</td>\n",
       "      <td>0.773711</td>\n",
       "    </tr>\n",
       "    <tr>\n",
       "      <th>4</th>\n",
       "      <td>0.0</td>\n",
       "      <td>0.629893</td>\n",
       "      <td>0.156578</td>\n",
       "      <td>0.630986</td>\n",
       "      <td>0.489290</td>\n",
       "      <td>0.430351</td>\n",
       "      <td>0.347893</td>\n",
       "      <td>0.463918</td>\n",
       "      <td>0.518390</td>\n",
       "      <td>0.378283</td>\n",
       "      <td>...</td>\n",
       "      <td>0.519744</td>\n",
       "      <td>0.123934</td>\n",
       "      <td>0.506948</td>\n",
       "      <td>0.341575</td>\n",
       "      <td>0.437364</td>\n",
       "      <td>0.172415</td>\n",
       "      <td>0.319489</td>\n",
       "      <td>0.558419</td>\n",
       "      <td>0.157500</td>\n",
       "      <td>0.142595</td>\n",
       "    </tr>\n",
       "    <tr>\n",
       "      <th>...</th>\n",
       "      <td>...</td>\n",
       "      <td>...</td>\n",
       "      <td>...</td>\n",
       "      <td>...</td>\n",
       "      <td>...</td>\n",
       "      <td>...</td>\n",
       "      <td>...</td>\n",
       "      <td>...</td>\n",
       "      <td>...</td>\n",
       "      <td>...</td>\n",
       "      <td>...</td>\n",
       "      <td>...</td>\n",
       "      <td>...</td>\n",
       "      <td>...</td>\n",
       "      <td>...</td>\n",
       "      <td>...</td>\n",
       "      <td>...</td>\n",
       "      <td>...</td>\n",
       "      <td>...</td>\n",
       "      <td>...</td>\n",
       "      <td>...</td>\n",
       "    </tr>\n",
       "    <tr>\n",
       "      <th>564</th>\n",
       "      <td>0.0</td>\n",
       "      <td>0.690000</td>\n",
       "      <td>0.428813</td>\n",
       "      <td>0.678668</td>\n",
       "      <td>0.566490</td>\n",
       "      <td>0.526948</td>\n",
       "      <td>0.296055</td>\n",
       "      <td>0.571462</td>\n",
       "      <td>0.690358</td>\n",
       "      <td>0.336364</td>\n",
       "      <td>...</td>\n",
       "      <td>0.623266</td>\n",
       "      <td>0.383262</td>\n",
       "      <td>0.576174</td>\n",
       "      <td>0.452664</td>\n",
       "      <td>0.461137</td>\n",
       "      <td>0.178527</td>\n",
       "      <td>0.328035</td>\n",
       "      <td>0.761512</td>\n",
       "      <td>0.097575</td>\n",
       "      <td>0.105667</td>\n",
       "    </tr>\n",
       "    <tr>\n",
       "      <th>565</th>\n",
       "      <td>0.0</td>\n",
       "      <td>0.622320</td>\n",
       "      <td>0.626987</td>\n",
       "      <td>0.604036</td>\n",
       "      <td>0.474019</td>\n",
       "      <td>0.407782</td>\n",
       "      <td>0.257714</td>\n",
       "      <td>0.337395</td>\n",
       "      <td>0.486630</td>\n",
       "      <td>0.349495</td>\n",
       "      <td>...</td>\n",
       "      <td>0.560655</td>\n",
       "      <td>0.699094</td>\n",
       "      <td>0.520892</td>\n",
       "      <td>0.379915</td>\n",
       "      <td>0.300007</td>\n",
       "      <td>0.159997</td>\n",
       "      <td>0.256789</td>\n",
       "      <td>0.559450</td>\n",
       "      <td>0.198502</td>\n",
       "      <td>0.074315</td>\n",
       "    </tr>\n",
       "    <tr>\n",
       "      <th>566</th>\n",
       "      <td>0.0</td>\n",
       "      <td>0.455251</td>\n",
       "      <td>0.621238</td>\n",
       "      <td>0.445788</td>\n",
       "      <td>0.303118</td>\n",
       "      <td>0.288165</td>\n",
       "      <td>0.254340</td>\n",
       "      <td>0.216753</td>\n",
       "      <td>0.263519</td>\n",
       "      <td>0.267677</td>\n",
       "      <td>...</td>\n",
       "      <td>0.393099</td>\n",
       "      <td>0.589019</td>\n",
       "      <td>0.379949</td>\n",
       "      <td>0.230731</td>\n",
       "      <td>0.282177</td>\n",
       "      <td>0.273705</td>\n",
       "      <td>0.271805</td>\n",
       "      <td>0.487285</td>\n",
       "      <td>0.128721</td>\n",
       "      <td>0.151909</td>\n",
       "    </tr>\n",
       "    <tr>\n",
       "      <th>567</th>\n",
       "      <td>0.0</td>\n",
       "      <td>0.644564</td>\n",
       "      <td>0.663510</td>\n",
       "      <td>0.665538</td>\n",
       "      <td>0.475716</td>\n",
       "      <td>0.588336</td>\n",
       "      <td>0.790197</td>\n",
       "      <td>0.823336</td>\n",
       "      <td>0.755467</td>\n",
       "      <td>0.675253</td>\n",
       "      <td>...</td>\n",
       "      <td>0.633582</td>\n",
       "      <td>0.730277</td>\n",
       "      <td>0.668310</td>\n",
       "      <td>0.402035</td>\n",
       "      <td>0.619626</td>\n",
       "      <td>0.815758</td>\n",
       "      <td>0.749760</td>\n",
       "      <td>0.910653</td>\n",
       "      <td>0.497142</td>\n",
       "      <td>0.452315</td>\n",
       "    </tr>\n",
       "    <tr>\n",
       "      <th>568</th>\n",
       "      <td>1.0</td>\n",
       "      <td>0.036869</td>\n",
       "      <td>0.501522</td>\n",
       "      <td>0.028540</td>\n",
       "      <td>0.015907</td>\n",
       "      <td>0.000000</td>\n",
       "      <td>0.074351</td>\n",
       "      <td>0.000000</td>\n",
       "      <td>0.000000</td>\n",
       "      <td>0.266162</td>\n",
       "      <td>...</td>\n",
       "      <td>0.054287</td>\n",
       "      <td>0.489072</td>\n",
       "      <td>0.043578</td>\n",
       "      <td>0.020497</td>\n",
       "      <td>0.124084</td>\n",
       "      <td>0.036043</td>\n",
       "      <td>0.000000</td>\n",
       "      <td>0.000000</td>\n",
       "      <td>0.257441</td>\n",
       "      <td>0.100682</td>\n",
       "    </tr>\n",
       "  </tbody>\n",
       "</table>\n",
       "<p>569 rows × 31 columns</p>\n",
       "</div>"
      ],
      "text/plain": [
       "     diagnosis  radius_mean  texture_mean  perimeter_mean  area_mean  \\\n",
       "0          0.0     0.521037      0.022658        0.545989   0.363733   \n",
       "1          0.0     0.643144      0.272574        0.615783   0.501591   \n",
       "2          0.0     0.601496      0.390260        0.595743   0.449417   \n",
       "3          0.0     0.210090      0.360839        0.233501   0.102906   \n",
       "4          0.0     0.629893      0.156578        0.630986   0.489290   \n",
       "..         ...          ...           ...             ...        ...   \n",
       "564        0.0     0.690000      0.428813        0.678668   0.566490   \n",
       "565        0.0     0.622320      0.626987        0.604036   0.474019   \n",
       "566        0.0     0.455251      0.621238        0.445788   0.303118   \n",
       "567        0.0     0.644564      0.663510        0.665538   0.475716   \n",
       "568        1.0     0.036869      0.501522        0.028540   0.015907   \n",
       "\n",
       "     smoothness_mean  compactness_mean  concavity_mean  concave points_mean  \\\n",
       "0           0.593753          0.792037        0.703140             0.731113   \n",
       "1           0.289880          0.181768        0.203608             0.348757   \n",
       "2           0.514309          0.431017        0.462512             0.635686   \n",
       "3           0.811321          0.811361        0.565604             0.522863   \n",
       "4           0.430351          0.347893        0.463918             0.518390   \n",
       "..               ...               ...             ...                  ...   \n",
       "564         0.526948          0.296055        0.571462             0.690358   \n",
       "565         0.407782          0.257714        0.337395             0.486630   \n",
       "566         0.288165          0.254340        0.216753             0.263519   \n",
       "567         0.588336          0.790197        0.823336             0.755467   \n",
       "568         0.000000          0.074351        0.000000             0.000000   \n",
       "\n",
       "     symmetry_mean  ...  radius_worst  texture_worst  perimeter_worst  \\\n",
       "0         0.686364  ...      0.620776       0.141525         0.668310   \n",
       "1         0.379798  ...      0.606901       0.303571         0.539818   \n",
       "2         0.509596  ...      0.556386       0.360075         0.508442   \n",
       "3         0.776263  ...      0.248310       0.385928         0.241347   \n",
       "4         0.378283  ...      0.519744       0.123934         0.506948   \n",
       "..             ...  ...           ...            ...              ...   \n",
       "564       0.336364  ...      0.623266       0.383262         0.576174   \n",
       "565       0.349495  ...      0.560655       0.699094         0.520892   \n",
       "566       0.267677  ...      0.393099       0.589019         0.379949   \n",
       "567       0.675253  ...      0.633582       0.730277         0.668310   \n",
       "568       0.266162  ...      0.054287       0.489072         0.043578   \n",
       "\n",
       "     area_worst  smoothness_worst  compactness_worst  concavity_worst  \\\n",
       "0      0.450698          0.601136           0.619292         0.568610   \n",
       "1      0.435214          0.347553           0.154563         0.192971   \n",
       "2      0.374508          0.483590           0.385375         0.359744   \n",
       "3      0.094008          0.915472           0.814012         0.548642   \n",
       "4      0.341575          0.437364           0.172415         0.319489   \n",
       "..          ...               ...                ...              ...   \n",
       "564    0.452664          0.461137           0.178527         0.328035   \n",
       "565    0.379915          0.300007           0.159997         0.256789   \n",
       "566    0.230731          0.282177           0.273705         0.271805   \n",
       "567    0.402035          0.619626           0.815758         0.749760   \n",
       "568    0.020497          0.124084           0.036043         0.000000   \n",
       "\n",
       "     concave points_worst  symmetry_worst  fractal_dimension_worst  \n",
       "0                0.912027        0.598462                 0.418864  \n",
       "1                0.639175        0.233590                 0.222878  \n",
       "2                0.835052        0.403706                 0.213433  \n",
       "3                0.884880        1.000000                 0.773711  \n",
       "4                0.558419        0.157500                 0.142595  \n",
       "..                    ...             ...                      ...  \n",
       "564              0.761512        0.097575                 0.105667  \n",
       "565              0.559450        0.198502                 0.074315  \n",
       "566              0.487285        0.128721                 0.151909  \n",
       "567              0.910653        0.497142                 0.452315  \n",
       "568              0.000000        0.257441                 0.100682  \n",
       "\n",
       "[569 rows x 31 columns]"
      ]
     },
     "execution_count": 22,
     "metadata": {},
     "output_type": "execute_result"
    }
   ],
   "source": [
    "vMin = df.min(axis=0)\n",
    "x = (df - vMin) / (df.max(axis=0) - vMin)\n",
    "x"
   ]
  },
  {
   "attachments": {},
   "cell_type": "markdown",
   "metadata": {},
   "source": [
    "#### 2. Выполнить подбор параметров модели классификатора и регрессора (по выбору) с использованием GridSearchCV:"
   ]
  },
  {
   "cell_type": "code",
   "execution_count": 23,
   "metadata": {},
   "outputs": [
    {
     "name": "stdout",
     "output_type": "stream",
     "text": [
      "Наилучшие значения параметров: {'max_depth': 7, 'min_samples_leaf': 2, 'min_samples_split': 2}\n",
      "Наилучшее значение метрики: 0.9370129870129871\n"
     ]
    }
   ],
   "source": [
    "# 1. Выбрать какую-нибудь модель классификатора (KNeighborsClassifier, DecisionTreeClassifier, Наивный Байес, LogisticRegression...):\n",
    "from sklearn.model_selection import train_test_split\n",
    "from sklearn.model_selection import GridSearchCV\n",
    "from sklearn.tree import DecisionTreeClassifier\n",
    "\n",
    "X =  np.array(x.iloc[:, 1:])\n",
    "Y =  np.array(x.iloc[:, 0])\n",
    "\n",
    "X_train, X_test, y_train, y_test = train_test_split(X, Y, test_size = 0.33)\n",
    "\n",
    "dtc = DecisionTreeClassifier()\n",
    "\n",
    "# 1.1. Выбрать совокупность настраиваемых параметров и диапазоны их значений\n",
    "params = {'max_depth': range (2, 20, 1),\n",
    "          'min_samples_leaf': range (1, 10),\n",
    "          'min_samples_split': range (2,10,2)}\n",
    "# 1.2. Реализовать поиск наилучших параметров с использованием GridSearchCV\n",
    "grid = GridSearchCV(dtc, params, cv = 5, n_jobs = -1)\n",
    "grid.fit(X_train, y_train)\n",
    "# 1.3. Вывести наилучшие найденные значения параметров и соответствующую метрику качества классификации\n",
    "print(f\"Наилучшие значения параметров: {grid.best_params_}\")\n",
    "print(f\"Наилучшее значение метрики: {grid.best_score_}\")"
   ]
  },
  {
   "cell_type": "code",
   "execution_count": 24,
   "metadata": {},
   "outputs": [
    {
     "name": "stdout",
     "output_type": "stream",
     "text": [
      "Наилучшие значения параметров: {'max_depth': 19, 'min_samples_leaf': 3, 'min_samples_split': 6}\n",
      "Наилучшее значение метрики: 0.7560418599331529\n"
     ]
    }
   ],
   "source": [
    "# 2. Выбрать какую-нибудь модель регрессора (KNeighborsRegressor, DecisionTreeRegressor, LinearReegresion, ...):\n",
    "from sklearn.tree import DecisionTreeRegressor\n",
    "\n",
    "X =  np.array(x.iloc[:, 1:])\n",
    "Y =  np.array(x.iloc[:, 0])\n",
    "\n",
    "X_train, X_test, y_train, y_test = train_test_split(X, Y, test_size = 0.33)\n",
    "\n",
    "dtr = DecisionTreeRegressor()\n",
    "\n",
    "# 2.1. Выбрать совокупность настраиваемых параметров и диапазоны их значений\n",
    "params = {'max_depth': range (2, 20, 1),\n",
    "          'min_samples_leaf': range (1, 10),\n",
    "          'min_samples_split': range (2, 10, 2)}\n",
    "# 2.2. Реализовать поиск наилучших параметров с использованием GridSearchCV\n",
    "grid = GridSearchCV(dtr, params, cv = 5, n_jobs = -1)\n",
    "grid.fit(X_train, y_train)\n",
    "# 2.3. Вывести наилучшие найденные значения параметров и соответствующую метрику качества модели\n",
    "print(f\"Наилучшие значения параметров: {grid.best_params_}\")\n",
    "print(f\"Наилучшее значение метрики: {grid.best_score_}\")"
   ]
  },
  {
   "attachments": {},
   "cell_type": "markdown",
   "metadata": {},
   "source": [
    "#### 3. Решить задачу классификации с использованием случайного леса (RandomForestClassifier):"
   ]
  },
  {
   "cell_type": "code",
   "execution_count": 25,
   "metadata": {},
   "outputs": [
    {
     "name": "stdout",
     "output_type": "stream",
     "text": [
      "Точность на обучающем наборе: 0.989\n",
      "Точность на тестовом наборе: 0.950\n"
     ]
    }
   ],
   "source": [
    "# 1. С помощью GridSearchCV подобрать наилучшие параметры случайного леса для задачи классификации \n",
    "from sklearn.ensemble import RandomForestClassifier\n",
    "from sklearn.model_selection import train_test_split\n",
    "\n",
    "X_train, X_test, y_train, y_test = train_test_split(X, Y, train_size = 0.33)\n",
    "\n",
    "forest = RandomForestClassifier(n_estimators = 5)\n",
    "forest.fit(X_train, y_train)\n",
    "\n",
    "print('Точность на обучающем наборе: {:.3f}'.format(forest.score(X_train, y_train)))\n",
    "print('Точность на тестовом наборе: {:.3f}'.format(forest.score(X_test, y_test)))"
   ]
  },
  {
   "cell_type": "code",
   "execution_count": 26,
   "metadata": {},
   "outputs": [
    {
     "name": "stdout",
     "output_type": "stream",
     "text": [
      "Наилучшие значения параметров: {'max_depth': 10, 'min_samples_leaf': 8, 'min_samples_split': 4, 'n_estimators': 12}\n",
      "Наилучшее значение метрики: 0.9679943100995733\n"
     ]
    }
   ],
   "source": [
    "params = {'n_estimators': range(3, 20),\n",
    "          'max_depth': range (2, 20, 1),\n",
    "          'min_samples_leaf': range (1, 10),\n",
    "          'min_samples_split': range (2, 10, 2)}\n",
    "\n",
    "gridRf = GridSearchCV(forest, params, cv = 5, n_jobs = -1)\n",
    "gridRf.fit(X_train, y_train)\n",
    "\n",
    "print(f\"Наилучшие значения параметров: {gridRf.best_params_}\")\n",
    "print(f\"Наилучшее значение метрики: {gridRf.best_score_}\")"
   ]
  },
  {
   "cell_type": "code",
   "execution_count": 38,
   "metadata": {},
   "outputs": [
    {
     "data": {
      "image/png": "[encoded data removed]",
      "text/plain": [
       "<Figure size 640x480 with 2 Axes>"
      ]
     },
     "metadata": {},
     "output_type": "display_data"
    },
    {
     "data": {
      "image/png": "[encoded data removed]",
      "text/plain": [
       "<Figure size 640x480 with 1 Axes>"
      ]
     },
     "metadata": {},
     "output_type": "display_data"
    }
   ],
   "source": [
    "# 2. С полученными параметрами вычислить метрики качества классификации (Confusion Matrix, ROC + AUC)\n",
    "from sklearn.metrics import confusion_matrix, ConfusionMatrixDisplay, roc_auc_score, roc_curve\n",
    "import matplotlib.pyplot as plt\n",
    "\n",
    "y_test_predict = gridRf.predict(X_test)\n",
    "y_test_prob = gridRf.predict_proba(X_test)[:, 1]\n",
    "\n",
    "confMatr = confusion_matrix(y_test, y_test_predict)\n",
    "cmPlt = ConfusionMatrixDisplay(confusion_matrix = confMatr)\n",
    "cmPlt.plot()\n",
    "plt.show()\n",
    "\n",
    "auc = roc_auc_score(y_test, y_test_prob)\n",
    "fpr, tpr, thresholds = roc_curve(y_test, y_test_predict)\n",
    "plt.plot(fpr, tpr, label = \"AUC=\" + str(auc))\n",
    "plt.xlabel(\"False Positive\")\n",
    "plt.ylabel(\"True Positive\")\n",
    "plt.legend()\n",
    "plt.show()"
   ]
  },
  {
   "attachments": {},
   "cell_type": "markdown",
   "metadata": {},
   "source": [
    "#### 4. Реализовать ансамбли моделей для задачи классификации и регрессии"
   ]
  },
  {
   "cell_type": "code",
   "execution_count": 39,
   "metadata": {},
   "outputs": [],
   "source": [
    "#1. Реализовать бэггинг BaggingClassifier на базе любой модели классификации\n",
    "from sklearn.ensemble import BaggingClassifier\n",
    "from sklearn.neighbors import KNeighborsClassifier\n",
    "from sklearn.model_selection import train_test_split\n",
    "from sklearn.metrics import accuracy_score, precision_score, recall_score, f1_score\n",
    "\n",
    "# разделяем данные на обучающие и тестовые наборы\n",
    "X_train, X_test, y_train, y_test = train_test_split(X, Y, test_size = 0.33)\n",
    "\n",
    "# создаем базовый алгоритм KNeighborsClassifier\n",
    "base_model = KNeighborsClassifier()\n",
    "\n",
    "# создаем ансамбль на основе базового алгоритма с использованием бэггинга\n",
    "bagging_model = BaggingClassifier(estimator = base_model, n_estimators = 10, random_state = 42)\n",
    "\n",
    "# обучаем модель на обучающих данных\n",
    "bagging_model.fit(X_train, y_train)\n",
    "\n",
    "# делаем предсказания на тестовых данных\n",
    "y_pred = bagging_model.predict(X_test)"
   ]
  },
  {
   "cell_type": "code",
   "execution_count": 50,
   "metadata": {},
   "outputs": [
    {
     "name": "stdout",
     "output_type": "stream",
     "text": [
      "Accuracy: 0.9361702127659575\n",
      "Precision: 0.9375\n",
      "Recall: 0.967741935483871\n",
      "F1 Score: 0.9523809523809523\n"
     ]
    }
   ],
   "source": [
    "# вычисляем и выводим метрики качества модели\n",
    "accuracy = accuracy_score(y_test, y_pred)\n",
    "precision = precision_score(y_test, y_pred)\n",
    "recall = recall_score(y_test, y_pred)\n",
    "f1 = f1_score(y_test, y_pred)\n",
    "\n",
    "print(f'Accuracy: {accuracy}\\nPrecision: {precision}\\nRecall: {recall}\\nF1 Score: {f1}')"
   ]
  },
  {
   "cell_type": "code",
   "execution_count": 54,
   "metadata": {},
   "outputs": [],
   "source": [
    "# 2. Реализовать бэггинг для задачи регрессии BaggingRegressor для любой модели регрессии\n",
    "from sklearn.ensemble import BaggingRegressor\n",
    "from sklearn.model_selection import train_test_split\n",
    "\n",
    "# разделяем данные на обучающие и тестовые наборы\n",
    "X_train, X_test, y_train, y_test = train_test_split(X, Y, test_size = 0.33)\n",
    "\n",
    "bagging_model = BaggingRegressor(estimator=base_model, n_estimators=5)\n",
    "\n",
    "# обучаем модель на обучающих данных\n",
    "bagging_model.fit(X_train, y_train)\n",
    "\n",
    "# делаем предсказания на тестовых данных\n",
    "y_pred = bagging_model.predict(X_test)"
   ]
  },
  {
   "cell_type": "code",
   "execution_count": 56,
   "metadata": {},
   "outputs": [
    {
     "name": "stdout",
     "output_type": "stream",
     "text": [
      "MSE: 0.04553191489361703\n",
      "MAE: 0.08085106382978723\n",
      "R^2: 0.8083049434187016\n"
     ]
    }
   ],
   "source": [
    "from sklearn.metrics import mean_squared_error, mean_absolute_error, r2_score\n",
    "# вычисляем и выводим метрики качества модели\n",
    "mse = mean_squared_error(y_test, y_pred)\n",
    "mae = mean_absolute_error(y_test, y_pred)\n",
    "r2 = r2_score(y_test, y_pred)\n",
    "\n",
    "print(f'MSE: {mse}\\nMAE: {mae}\\nR^2: {r2}')"
   ]
  },
  {
   "cell_type": "code",
   "execution_count": 58,
   "metadata": {},
   "outputs": [],
   "source": [
    "#3. Реализовать метод градиентного бустинга GradiendBoostingClassifier на базе любой модели классификации \n",
    "from sklearn.ensemble import GradientBoostingClassifier\n",
    "from sklearn.tree import DecisionTreeClassifier\n",
    "from sklearn.model_selection import train_test_split\n",
    "\n",
    "# разделяем данные на обучающие и тестовые наборы\n",
    "X_train, X_test, y_train, y_test = train_test_split(X, Y, test_size = 0.33)\n",
    "\n",
    "# создаем базовый алгоритм DecisionTreeClassifier\n",
    "base_model = DecisionTreeClassifier()\n",
    "\n",
    "boosting_model = GradientBoostingClassifier(n_estimators = 10, random_state = 42)\n",
    "\n",
    "# обучаем модель на обучающих данных\n",
    "boosting_model.fit(X_train, y_train)\n",
    "\n",
    "# делаем предсказания на тестовых данных\n",
    "y_pred = boosting_model.predict(X_test)"
   ]
  },
  {
   "cell_type": "code",
   "execution_count": 59,
   "metadata": {},
   "outputs": [
    {
     "name": "stdout",
     "output_type": "stream",
     "text": [
      "Accuracy: 0.9414893617021277,\n",
      "Precision: 0.952,\n",
      "Recall: 0.9596774193548387,\n",
      "F1 Score: 0.9558232931726908\n"
     ]
    }
   ],
   "source": [
    "from sklearn.metrics import accuracy_score, precision_score, recall_score, f1_score\n",
    "# вычисляем и выводим метрики качества модели\n",
    "accuracy = accuracy_score(y_test, y_pred)\n",
    "precision = precision_score(y_test, y_pred)\n",
    "recall = recall_score(y_test, y_pred)\n",
    "f1 = f1_score(y_test, y_pred)\n",
    "\n",
    "print(f'Accuracy: {accuracy},\\nPrecision: {precision},\\nRecall: {recall},\\nF1 Score: {f1}')"
   ]
  },
  {
   "cell_type": "code",
   "execution_count": 64,
   "metadata": {},
   "outputs": [],
   "source": [
    "#4. Реализовать метод градиентного бустинга GradiendBoostingRegressor на базе любой модели регрессии \n",
    "from sklearn.ensemble import GradientBoostingRegressor\n",
    "from sklearn.model_selection import train_test_split\n",
    "\n",
    "# разделяем данные на обучающие и тестовые наборы\n",
    "X_train, X_test, y_train, y_test = train_test_split(X, Y, test_size = 0.33)\n",
    "\n",
    "boosting_model = GradientBoostingRegressor(n_estimators=100, random_state=42)\n",
    "\n",
    "# обучаем модель на обучающих данных\n",
    "boosting_model.fit(X_train, y_train)\n",
    "\n",
    "# делаем предсказания на тестовых данных\n",
    "y_pred = boosting_model.predict(X_test)"
   ]
  },
  {
   "cell_type": "code",
   "execution_count": 65,
   "metadata": {},
   "outputs": [
    {
     "name": "stdout",
     "output_type": "stream",
     "text": [
      "MSE: 0.041961469322987506\n",
      "MAE: 0.07826335934856182\n",
      "R^2: 0.8319829872265015\n"
     ]
    }
   ],
   "source": [
    "# вычисляем и выводим метрики качества модели\n",
    "mse = mean_squared_error(y_test, y_pred)\n",
    "mae = mean_absolute_error(y_test, y_pred)\n",
    "r2 = r2_score(y_test, y_pred)\n",
    "\n",
    "print(f'MSE: {mse}\\nMAE: {mae}\\nR^2: {r2}')"
   ]
  }
 ],
 "metadata": {
  "kernelspec": {
   "display_name": "base",
   "language": "python",
   "name": "python3"
  },
  "language_info": {
   "codemirror_mode": {
    "name": "ipython",
    "version": 3
   },
   "file_extension": ".py",
   "mimetype": "text/x-python",
   "name": "python",
   "nbconvert_exporter": "python",
   "pygments_lexer": "ipython3",
   "version": "3.9.13"
  },
  "orig_nbformat": 4
 },
 "nbformat": 4,
 "nbformat_minor": 2
}
